{
 "cells": [
  {
   "cell_type": "code",
   "execution_count": null,
   "metadata": {},
   "outputs": [],
   "source": [
    "quiz=[\n",
    "    {\n",
    "        \n",
    "        \"Q )\" : \"the biggest mountain of pakistan is:\",\n",
    "        \"OP \" : [\"A)K-2\", \"B)HIMALAYA\", \"C)NANGA PARBAT\", \"D)MOUNT EVEREST\",],\n",
    "        \"ANS\": \"a\"},\n",
    "    {\n",
    "        \"Q )\": \"What year was the very first model of iphone released:\",\n",
    "        \"OP \" : [\"A)2010\", \"B) 2009\", \"C)2011\", \"D)2007\",],\n",
    "        \"ANS\": \"d\"\n",
    "        \n",
    "    },\n",
    "    {\n",
    "        \"Q )\" : \"Which continent is the largest in the world:\",\n",
    "        \"OP \" : [\"A)RUSSIA\", \"B)ASIA\", \"C)ANTARTICA\", \"D)AFRICA\",],\n",
    "        \"ANS\": \"b\"\n",
    "        \n",
    "    },\n",
    "    {\n",
    "        \"Q )\" : \"What is the name of the worlds longest river:\",\n",
    "        \"OP \" : [\"A)INDUS RIVER\", \"B)JEHLUM\", \"C)NILE\", \"D)CHENAB\",],\n",
    "        \"ANS\": \"c\"\n",
    "        \n",
    "    },\n",
    "    \n",
    "    \n",
    "    \n",
    "]\n",
    "mark=0\n",
    "i=0\n",
    "for question in quiz:\n",
    "    print(\"Q\",i+1,\")\",question[\"Q )\"])\n",
    "    print(question[\"OP \"] [0])\n",
    "    print(question[\"OP \"] [1])\n",
    "    print(question[\"OP \"] [2])\n",
    "    print(question[\"OP \"] [3])\n",
    "    ans=input(\"Enter option :\")\n",
    "    i=i+1\n",
    "    \n",
    "    if (ans.lower()==question[\"ANS\"]):\n",
    "        print(\"Your Answer Is Correct\")\n",
    "        mark=mark+1\n",
    "    else:\n",
    "        print(\"Your Answer Is Incorrect\")\n",
    "print(\"Your Total Quiz Score :\",mark)"
   ]
  },
  {
   "cell_type": "code",
   "execution_count": 5,
   "metadata": {},
   "outputs": [
    {
     "name": "stdout",
     "output_type": "stream",
     "text": [
      "\n",
      "Please type in the math operation you would like to complete:\n",
      "+ for addition\n",
      "- for subtraction\n",
      "* for multiplication\n",
      "/ for division\n",
      "+\n",
      "Enter your first number: 5\n",
      "Enter your second number: 5\n",
      "5 + 5 = \n",
      "10\n"
     ]
    }
   ],
   "source": [
    "operation = input('''\n",
    "Please type in the math operation you would like to complete:\n",
    "+ for addition\n",
    "- for subtraction\n",
    "* for multiplication\n",
    "/ for division\n",
    "''')\n",
    "\n",
    "number_1 = int(input('Enter your first number: '))\n",
    "number_2 = int(input('Enter your second number: '))\n",
    "\n",
    "if operation == '+':\n",
    "    print('{} + {} = '.format(number_1, number_2))\n",
    "    print(number_1 + number_2)\n",
    "\n",
    "elif operation == '-':\n",
    "    print('{} - {} = '.format(number_1, number_2))\n",
    "    print(number_1 - number_2)\n",
    "\n",
    "elif operation == '*':\n",
    "    print('{} * {} = '.format(number_1, number_2))\n",
    "    print(number_1 * number_2)\n",
    "\n",
    "elif operation == '/':\n",
    "    print('{} / {} = '.format(number_1, number_2))\n",
    "    print(number_1 / number_2)\n",
    "\n",
    "else:\n",
    "    print('You have not typed a valid operator, please run the program again.')"
   ]
  },
  {
   "cell_type": "code",
   "execution_count": 3,
   "metadata": {},
   "outputs": [
    {
     "name": "stdout",
     "output_type": "stream",
     "text": [
      "Assignment End\n"
     ]
    }
   ],
   "source": [
    "print(\"Assignment End\")"
   ]
  },
  {
   "cell_type": "code",
   "execution_count": null,
   "metadata": {},
   "outputs": [],
   "source": []
  }
 ],
 "metadata": {
  "kernelspec": {
   "display_name": "Python 3",
   "language": "python",
   "name": "python3"
  },
  "language_info": {
   "codemirror_mode": {
    "name": "ipython",
    "version": 3
   },
   "file_extension": ".py",
   "mimetype": "text/x-python",
   "name": "python",
   "nbconvert_exporter": "python",
   "pygments_lexer": "ipython3",
   "version": "3.7.6"
  }
 },
 "nbformat": 4,
 "nbformat_minor": 4
}
